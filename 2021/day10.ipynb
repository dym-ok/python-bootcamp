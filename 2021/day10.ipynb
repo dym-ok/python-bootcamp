{
 "cells": [
  {
   "cell_type": "code",
   "execution_count": 54,
   "metadata": {},
   "outputs": [
    {
     "name": "stdout",
     "output_type": "stream",
     "text": [
      "278475\n",
      "27\n",
      "3015539998\n"
     ]
    }
   ],
   "source": [
    "from collections import deque\n",
    "from functools import reduce\n",
    "from aocd import get_data\n",
    "\n",
    "\n",
    "data = [list(s) for s in get_data(day=10, year=2021).splitlines()]\n",
    "\n",
    "scores_map = {')': 3, ']': 57, '}': 1197, '>': 2513}\n",
    "completion_score = {\")\": 1, \"]\": 2, \"}\": 3, \">\": 4}\n",
    "pairs_map = { ')': '(', ']': '[', '}': '{', '>': '<'}\n",
    "\n",
    "rev_pairs_map = {v: k for k, v in pairs_map.items()}\n",
    "\n",
    "opening_brackets = pairs_map.values()\n",
    "closing_brackets = pairs_map.keys()\n",
    "buffer = deque()\n",
    "\n",
    "\n",
    "def get_line_score(line: str) -> tuple[int, list[str]]: \n",
    "  buffer.clear()\n",
    "  for char in line:\n",
    "    if char in opening_brackets:\n",
    "      buffer.append(char)\n",
    "    elif char in closing_brackets:\n",
    "      if len(buffer) > 0 and  buffer[-1] == pairs_map[char]:\n",
    "        buffer.pop()\n",
    "      else:\n",
    "        return (scores_map[char], None)\n",
    "  # to be used in part 2\n",
    "  remainder = [rev_pairs_map[x] for x in list(reversed(buffer))]\n",
    "  return (0, remainder)\n",
    "      \n",
    "\n",
    "def part_one(data: list) -> int:\n",
    "  return sum([get_line_score(line)[0] for line in data])\n",
    "\n",
    "\n",
    "def completion_score_calculator(total_score: int, char: str) -> int:\n",
    "  return 5*total_score + completion_score[char]\n",
    "\n",
    "\n",
    "def part_two(data: list) -> int:\n",
    "  remainders = list(filter(lambda x: x is not None, list(map(lambda line: get_line_score(line)[1], data))))\n",
    "  completion_scores = [reduce(completion_score_calculator, line, 0) for line in remainders]\n",
    "  completion_scores = sorted(completion_scores)\n",
    "  mid_index = (len(completion_scores)) // 2\n",
    "  return completion_scores[mid_index]\n",
    "\n",
    "\n",
    "print(part_one(data))\n",
    "print(part_two(data))"
   ]
  }
 ],
 "metadata": {
  "kernelspec": {
   "display_name": ".venv",
   "language": "python",
   "name": "python3"
  },
  "language_info": {
   "codemirror_mode": {
    "name": "ipython",
    "version": 3
   },
   "file_extension": ".py",
   "mimetype": "text/x-python",
   "name": "python",
   "nbconvert_exporter": "python",
   "pygments_lexer": "ipython3",
   "version": "3.10.6"
  }
 },
 "nbformat": 4,
 "nbformat_minor": 2
}

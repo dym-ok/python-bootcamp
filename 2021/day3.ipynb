{
 "cells": [
  {
   "cell_type": "code",
   "execution_count": 9,
   "metadata": {},
   "outputs": [],
   "source": [
    "import numpy as np\n",
    "from aocd import get_data\n",
    "\n",
    "\n",
    "def string_to_int_array(string):\n",
    "  return [int(char) for char in string]\n",
    "\n",
    "data = get_data(day=3, year=2021).splitlines()\n",
    "d = np.asarray([string_to_int_array(line) for line in data])\n",
    "sum_array = d.sum(axis=0)"
   ]
  },
  {
   "cell_type": "code",
   "execution_count": 47,
   "metadata": {},
   "outputs": [
    {
     "name": "stdout",
     "output_type": "stream",
     "text": [
      "852500\n"
     ]
    }
   ],
   "source": [
    "gamma_array = (sum_array // (d.shape[0]/2)).astype(int)\n",
    "gamma_array_string = ''.join(gamma_array.astype(str).tolist())\n",
    "gamma = (int(gamma_array_string, 2))\n",
    "epsilon = (1 << len(gamma_array_string)) - 1 - gamma\n",
    "power_consumption = gamma * epsilon\n",
    "print(power_consumption)\n",
    "\n"
   ]
  }
 ],
 "metadata": {
  "kernelspec": {
   "display_name": "data-science",
   "language": "python",
   "name": "python3"
  },
  "language_info": {
   "codemirror_mode": {
    "name": "ipython",
    "version": 3
   },
   "file_extension": ".py",
   "mimetype": "text/x-python",
   "name": "python",
   "nbconvert_exporter": "python",
   "pygments_lexer": "ipython3",
   "version": "3.10.6"
  }
 },
 "nbformat": 4,
 "nbformat_minor": 2
}

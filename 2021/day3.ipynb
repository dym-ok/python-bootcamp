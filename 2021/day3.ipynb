{
 "cells": [
  {
   "cell_type": "code",
   "execution_count": 1,
   "metadata": {},
   "outputs": [],
   "source": [
    "import numpy as np\n",
    "from aocd import get_data\n",
    "from collections import Counter\n",
    "\n",
    "\n",
    "def string_to_int_array(string):\n",
    "  return [int(char) for char in string]\n",
    "\n",
    "data = get_data(day=3, year=2021).splitlines()\n",
    "d = np.asarray([string_to_int_array(line) for line in data])\n"
   ]
  },
  {
   "cell_type": "code",
   "execution_count": 20,
   "metadata": {},
   "outputs": [
    {
     "name": "stdout",
     "output_type": "stream",
     "text": [
      "852500\n"
     ]
    }
   ],
   "source": [
    "def get_gamma(d: np.ndarray) -> np.ndarray:\n",
    "  sum_array = d.sum(axis=0)\n",
    "  gamma_array = (sum_array // (d.shape[0]/2)).astype(int)\n",
    "  return gamma_array\n",
    "\n",
    "def get_epsilon(gamma_array: np.ndarray) -> np.ndarray:\n",
    "  return 1 - gamma_array\n",
    "\n",
    "def part_one(d: np.ndarray) -> int:\n",
    "  gamma_array = get_gamma(d)\n",
    "  epsilon_array = get_epsilon(gamma_array)\n",
    "  gamma_array_string = ''.join(gamma_array.astype(str).tolist())\n",
    "  epsilon_array_string = ''.join(epsilon_array.astype(str).tolist())\n",
    "  gamma = (int(gamma_array_string, 2))\n",
    "  epsilon = (int(epsilon_array_string, 2))\n",
    "  power_consumption = gamma * epsilon\n",
    "  return power_consumption\n",
    "\n",
    "print(part_one(d))"
   ]
  },
  {
   "cell_type": "code",
   "execution_count": 64,
   "metadata": {},
   "outputs": [
    {
     "name": "stdout",
     "output_type": "stream",
     "text": [
      "1007985\n"
     ]
    }
   ],
   "source": [
    "def get_rows_with_most_common_value_in_column(array: np.ndarray, column_index: int) -> np.ndarray:\n",
    "  bit_count = Counter(array[:, column_index])\n",
    "  if (bit_count[0] > bit_count[1]):\n",
    "    return array[array[:, column_index] == 0]\n",
    "  else:\n",
    "    return array[array[:, column_index] == 1]\n",
    " \n",
    "def get_rows_with_least_common_value_in_column(array: np.ndarray, column_index: int) -> np.ndarray:\n",
    "  bit_count = Counter(array[:, column_index])\n",
    "  if (bit_count[0] > bit_count[1]):\n",
    "    return array[array[:, column_index] == 1]\n",
    "  else:\n",
    "    return array[array[:, column_index] == 0]\n",
    "\n",
    "\n",
    "def get_oxygen_rating(array: np.ndarray) -> int:\n",
    "  rows_with_most_common_value_in_column = array\n",
    "  for column_index in range(rows_with_most_common_value_in_column.shape[1]):\n",
    "    if (rows_with_most_common_value_in_column.shape[0] == 1):\n",
    "      break\n",
    "    rows_with_most_common_value_in_column = get_rows_with_most_common_value_in_column(rows_with_most_common_value_in_column, column_index)\n",
    "  return rows_with_most_common_value_in_column[0]\n",
    "\n",
    "\n",
    "def get_co2_scrubber_rating(array: np.ndarray) -> int:\n",
    "  rows_with_least_common_value_in_column = array\n",
    "  for column_index in range(rows_with_least_common_value_in_column.shape[1]):\n",
    "    if (rows_with_least_common_value_in_column.shape[0] == 1):\n",
    "      break\n",
    "    rows_with_least_common_value_in_column = get_rows_with_least_common_value_in_column(rows_with_least_common_value_in_column, column_index)\n",
    "  return rows_with_least_common_value_in_column[0]\n",
    "\n",
    "def part_two(d: np.ndarray) -> int:\n",
    "  oxygen_rating = get_oxygen_rating(d)\n",
    "  co2_scrubber_rating = get_co2_scrubber_rating(d)\n",
    "  oxygen_rating_string = ''.join(oxygen_rating.astype(str).tolist())\n",
    "  co2_scrubber_rating_string = ''.join(co2_scrubber_rating.astype(str).tolist())\n",
    "  oxygen = (int(oxygen_rating_string, 2))\n",
    "  co2_scrubber = (int(co2_scrubber_rating_string, 2))\n",
    "  life_support = oxygen * co2_scrubber\n",
    "  return life_support\n",
    "\n",
    "print(part_two(d))"
   ]
  },
  {
   "cell_type": "code",
   "execution_count": null,
   "metadata": {},
   "outputs": [],
   "source": []
  }
 ],
 "metadata": {
  "kernelspec": {
   "display_name": "data-science",
   "language": "python",
   "name": "python3"
  },
  "language_info": {
   "codemirror_mode": {
    "name": "ipython",
    "version": 3
   },
   "file_extension": ".py",
   "mimetype": "text/x-python",
   "name": "python",
   "nbconvert_exporter": "python",
   "pygments_lexer": "ipython3",
   "version": "3.10.13"
  }
 },
 "nbformat": 4,
 "nbformat_minor": 2
}

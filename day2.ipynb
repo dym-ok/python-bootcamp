{
 "cells": [
  {
   "cell_type": "code",
   "execution_count": 5,
   "metadata": {},
   "outputs": [],
   "source": [
    "import re\n",
    "from functools import reduce\n",
    "\n",
    "# https://adventofcode.com/2021/day/2\n",
    "\n",
    "def parse_command(string):\n",
    "    # one command per line\n",
    "    return re.findall(r'(\\w+)\\s+(\\d+)', string)[0]\n",
    "\n",
    "def part1_command_processor(coordinates, command_tuple):\n",
    "    (command, value) = command_tuple\n",
    "    (horiz, depth) = coordinates\n",
    "    if command == 'up':\n",
    "        return (horiz, depth - int(value))\n",
    "    elif command == 'down':\n",
    "        return (horiz, depth + int(value))\n",
    "    elif command == 'forward':\n",
    "        return (horiz + int(value), depth)\n",
    "    else:\n",
    "        raise Exception('Unknown command: ' + command)\n",
    "    \n",
    "\n",
    "def part2_command_processor(coordinates, command_tuple):\n",
    "    (command, value) = command_tuple\n",
    "    (horiz, depth, aim) = coordinates\n",
    "    if command == \"down\":\n",
    "        return (horiz, depth, aim + int(value))\n",
    "    elif command == \"up\":\n",
    "        return (horiz, depth, aim - int(value))\n",
    "    elif command == \"forward\":\n",
    "        return (horiz + int(value), depth + int(value) * aim, aim)\n",
    "    else:\n",
    "        raise Exception('Unknown command: ' + command)"
   ]
  },
  {
   "cell_type": "code",
   "execution_count": 8,
   "metadata": {},
   "outputs": [
    {
     "name": "stdout",
     "output_type": "stream",
     "text": [
      "Part 2 Final position: (1320534480)\n"
     ]
    }
   ],
   "source": [
    "with open('day2_input.txt') as f:\n",
    "    data = f.read().splitlines()\n",
    "\n",
    "    (horiz, depth) = reduce(part1_command_processor, map(parse_command, data), (0, 0))\n",
    "    print('Part 1 Final position: ({})'.format(horiz * depth))\n",
    "\n",
    "    (horiz, depth, aim) = reduce(part2_command_processor, map(parse_command, data), (0, 0, 0))\n",
    "    print('Part 2 Final position: ({})'.format(horiz * depth))"
   ]
  }
 ],
 "metadata": {
  "kernelspec": {
   "display_name": "data-science",
   "language": "python",
   "name": "python3"
  },
  "language_info": {
   "codemirror_mode": {
    "name": "ipython",
    "version": 3
   },
   "file_extension": ".py",
   "mimetype": "text/x-python",
   "name": "python",
   "nbconvert_exporter": "python",
   "pygments_lexer": "ipython3",
   "version": "3.10.13"
  }
 },
 "nbformat": 4,
 "nbformat_minor": 2
}
